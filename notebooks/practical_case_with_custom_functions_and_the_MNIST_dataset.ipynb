{
 "cells": [
  {
   "cell_type": "markdown",
   "metadata": {},
   "source": [
    "# Practical Case with Custom Functions and the MNIST Dataset\n",
    "\n",
    "In this tutorial, we introduce a custom feature using the MNIST dataset as a more practical example. If you're new to QXMT, it is recommended to start with the \"[Simple Case Using Only the Default Dataset and Model](https://qyusu.github.io/qxmt/tutorials/en/default_simple.html#)\" tutorial to gain an overall understanding.\n",
    "\n",
    "## 1. Preparing the Dataset\n",
    "To begin managing experiments, the MNIST dataset must be downloaded. Major datasets, including MNIST, can be easily downloaded using the `scikit-learn` method [fetch_openml](https://scikit-learn.org/stable/modules/generated/sklearn.datasets.fetch_openml.html).\n",
    "\n",
    "In this tutorial, the dataset used for the experiment is downloaded manually, but QXMT also provides a feature to download major datasets from [OpenML](https://www.openml.org/) via a config file. For more details, refer to the tutorial that demonstrates how to use OpenML."
   ]
  },
  {
   "cell_type": "code",
   "execution_count": 6,
   "metadata": {},
   "outputs": [
    {
     "name": "stdout",
     "output_type": "stream",
     "text": [
      "Dataset Shape: (70000, 784)\n",
      "Unique Label Number: 10\n"
     ]
    }
   ],
   "source": [
    "import os\n",
    "import numpy as np\n",
    "from sklearn import datasets\n",
    "\n",
    "# Load MNIST784 dataset\n",
    "digits_dataset = datasets.fetch_openml(\"mnist_784\")\n",
    "print(f\"Dataset Shape: {digits_dataset.data.shape}\")\n",
    "print(f\"Unique Label Number: {len(np.unique(digits_dataset.target))}\")\n",
    "\n",
    "# convert to numpy array\n",
    "X = digits_dataset.data.to_numpy()\n",
    "y = digits_dataset.target.to_numpy()\n",
    "\n",
    "# create a directory to save dataset\n",
    "os.makedirs(\"../data/mnist_784\", exist_ok=True)\n",
    "\n",
    "# save dataset on local environment\n",
    "np.save(\"../data/mnist_784/dataset_X.npy\", X)\n",
    "np.save(\"../data/mnist_784/dataset_y.npy\", y)"
   ]
  },
  {
   "cell_type": "markdown",
   "metadata": {},
   "source": [
    "## 2. Implementing Custom Features\n",
    "\n",
    "In QXMT, custom features can be defined in the following five categories:\n",
    "\n",
    "- **Dataset**: Preprocessing logic (`raw_preprocess_logic`) for filtering and removing outliers from the loaded dataset can be defined, along with transformation logic (`transform_logic`) for tasks like discretization and dimensionality reduction.\n",
    "- **Feature Map**: Custom feature maps can be defined as functions or quantum circuits.\n",
    "- **Kernel**: Custom kernel functions can be defined.\n",
    "- **Model**: Custom quantum machine learning models can be defined.\n",
    "- **Evaluation**: Custom evaluation metrics can be defined and tracked as logs for each experiment.\n",
    "\n",
    "This tutorial demonstrates how to implement and manage experiments in QXMT using three commonly used features: `Dataset`, `Feature Map`, and `Evaluation`. Other features can be similarly implemented, invoked, and managed, allowing for further exploration of those options."
   ]
  },
  {
   "cell_type": "markdown",
   "metadata": {},
   "source": [
    "### 2.1 Custom Definition of Dataset Processing Logic\n",
    "For the dataset, two types of logic can be independently defined: preprocessing logic and transformation logic.\n",
    "\n",
    "We will first address the implementation of the preprocessing logic. This involves filtering the MNIST dataset to focus on specific labels from the ten total classes. Additionally, due to the significant computational complexity of quantum kernels, functionality to reduce the sample size of the data is also included."
   ]
  },
  {
   "cell_type": "markdown",
   "metadata": {},
   "source": [
    "``` python\n",
    "# File: ../custom/raw_preprocess_logic.py\n",
    "\n",
    "import numpy as np\n",
    "\n",
    "\n",
    "def sampling_by_each_class(\n",
    "    X: np.ndarray, y: np.ndarray, n_samples: int, labels: list[int]\n",
    ") -> tuple[np.ndarray, np.ndarray]:\n",
    "\n",
    "    y = np.array([int(label) for label in y])\n",
    "    indices = np.where(np.isin(y, labels))[0]\n",
    "    X, y = X[indices][:n_samples], y[indices][:n_samples]\n",
    "\n",
    "    return X, y\n",
    "```"
   ]
  },
  {
   "cell_type": "markdown",
   "metadata": {},
   "source": [
    "Next, the transformation logic for the data will be implemented. In this step, PCA is used to perform dimensionality reduction on the input data. Since each MNIST image consists of 784 dimensions, the required number of qubits can be substantial. Therefore, the data is compressed using the `n_components` parameter to a manageable size based on the computing environment being used."
   ]
  },
  {
   "cell_type": "markdown",
   "metadata": {},
   "source": [
    "```python\n",
    "# File: ../custom/transform_logic.py\n",
    "\n",
    "from typing import Optional\n",
    "\n",
    "import numpy as np\n",
    "from sklearn.decomposition import PCA\n",
    "from sklearn.preprocessing import StandardScaler\n",
    "\n",
    "\n",
    "def dimension_reduction_by_pca(\n",
    "    X_train: np.ndarray,\n",
    "    y_train: np.ndarray,\n",
    "    X_val: Optional[np.ndarray],\n",
    "    y_val: Optional[np.ndarray],\n",
    "    X_test: np.ndarray,\n",
    "    y_test: np.ndarray,\n",
    "    n_components: int,\n",
    ") -> tuple[np.ndarray, np.ndarray, Optional[np.ndarray], Optional[np.ndarray], np.ndarray, np.ndarray]:\n",
    "    scaler = StandardScaler()\n",
    "    scaler.fit(X_train)\n",
    "    X_train_scaled = scaler.transform(X_train)\n",
    "    X_val_scaled = scaler.transform(X_val) if X_val is not None else None\n",
    "    X_test_scaled = scaler.transform(X_test)\n",
    "\n",
    "    pca = PCA(n_components=n_components)\n",
    "    pca.fit(X_train_scaled)\n",
    "    X_train_pca = pca.transform(X_train_scaled)\n",
    "    X_val_pca = pca.transform(X_val_scaled) if X_val_scaled is not None else None\n",
    "    X_test_pca = pca.transform(X_test_scaled)\n",
    "\n",
    "    return X_train_pca, y_train, X_val_pca, y_val, X_test_pca, y_test\n",
    "```"
   ]
  },
  {
   "cell_type": "markdown",
   "metadata": {},
   "source": [
    "### 2.2 Custom Definition of Feature Map\n",
    "\n",
    "QXMT provides basic feature maps, such as those constructed with Rotation Gates and the ZZFeatureMap, which can be used directly by specifying them in the configuration. However, in practical applications and research, more complex feature maps are often needed. Therefore, QXMT allows the implementation of custom feature maps that can be invoked via the configuration. This approach makes it easier to experiment with different feature map designs.\n",
    "\n",
    "In this tutorial, a quantum circuit using PennyLane is implemented as a feature map, applying the ZZFeatureMap followed by the XXFeatureMap. When defining a custom feature map, it is important to inherit from the abstract class `qxmt.feature_maps.BaseFeatureMap` to ensure compatibility and take advantage of QXMT's various functionalities. If creating a class for each feature map is too cumbersome, you can also pass a function that implements the FeatureMap to the Kernel class. For more details, please refer to the API Reference."
   ]
  },
  {
   "cell_type": "markdown",
   "metadata": {},
   "source": [
    "``` python\n",
    "# File: your_project/custom/feature_map.py\n",
    "\n",
    "import numpy as np\n",
    "import pennylane as qml\n",
    "\n",
    "from qxmt.feature_maps import BaseFeatureMap\n",
    "\n",
    "\n",
    "class CustomFeatureMap(BaseFeatureMap):\n",
    "    def __init__(self, n_qubits: int, reps: int) -> None:\n",
    "        super().__init__(\"pennylane\", n_qubits)\n",
    "        self.reps: int = reps\n",
    "\n",
    "    def feature_map(self, x: np.ndarray) -> None:\n",
    "        for _ in range(self.reps):\n",
    "            for i in range(self.n_qubits):\n",
    "                qml.Hadamard(wires=i)\n",
    "                qml.RZ(x[i], wires=i)\n",
    "            for i in range(0, self.n_qubits - 1):\n",
    "                qml.IsingZZ(2 * (np.pi - x[i]) * (np.pi - x[i + 1]), wires=[i, i + 1])\n",
    "\n",
    "        for _ in range(self.reps):\n",
    "            for i in range(self.n_qubits):\n",
    "                qml.RX(x[i], wires=i)\n",
    "            for i in range(0, self.n_qubits - 1):\n",
    "                qml.IsingXX(2 * (np.pi - x[i]) * (np.pi - x[i + 1]), wires=[i, i + 1])\n",
    "```"
   ]
  },
  {
   "cell_type": "markdown",
   "metadata": {},
   "source": [
    "### 2.3 Custom Definition of Evaluation Metrics\n",
    "\n",
    "In this section, we will define a custom evaluation metric. While default metrics such as Accuracy, Precision, Recall, and F-Measure are provided, additional evaluation metrics are often required depending on specific goals. In such cases, you can manage experiments in the same way as with the default metrics using the method introduced here.\n",
    "\n",
    "In this tutorial, we will define specificity as an additional evaluation metric. When defining a custom evaluation metric, it should be implemented as a class that inherits from `qxmt.evaluation.BaseMetric`, and the logic for calculating the evaluation value should be implemented in the `evaluate` method."
   ]
  },
  {
   "cell_type": "markdown",
   "metadata": {},
   "source": [
    "``` python\n",
    "# File: your_project/custom/evaluation.py\n",
    "\n",
    "from typing import Any\n",
    "\n",
    "import numpy as np\n",
    "from sklearn.metrics import confusion_matrix\n",
    "\n",
    "from qxmt.evaluation.metrics import BaseMetric\n",
    "\n",
    "\n",
    "class CustomMetric(BaseMetric):\n",
    "    def __init__(self) -> None:\n",
    "        super().__init__(\"specificity\")\n",
    "\n",
    "    @staticmethod\n",
    "    def evaluate(actual: np.ndarray, predicted: np.ndarray, **kwargs: Any) -> float:\n",
    "        tn, fp, fn, tp = confusion_matrix(actual, predicted).ravel()\n",
    "        return tn / (tn + fp)\n",
    "```"
   ]
  },
  {
   "cell_type": "markdown",
   "metadata": {},
   "source": [
    "The implementation of custom logic for the dataset, feature map, and evaluation metrics has been completed. The implemented logic can accept various parameters, which can be configured through the Run's configuration, enabling easy execution of experiments under different conditions. More details will be introduced in Chapter 3."
   ]
  },
  {
   "cell_type": "markdown",
   "metadata": {},
   "source": [
    "## 3. Configuring Run Settings\n",
    "\n",
    "This section explains the items that need to be configured in the configuration file to utilize the implemented custom methods. Areas that require additional configuration are marked with the `[SETUP]` tag. The primary configuration method involves specifying the path to the module where the custom logic is implemented, along with the function or class name. Parameters for each can also be documented under `params`, allowing them to be passed as arguments during execution.\n",
    "\n",
    "```yaml\n",
    "# File: your_project/configs/custom.yaml\n",
    "\n",
    "description: \"Configuration file for the custom MNIST case\"\n",
    "\n",
    "global_settings:\n",
    "  random_seed: &global_seed 42\n",
    "  task_type: \"classification\"\n",
    "\n",
    "dataset:\n",
    "  file: # [SETUP] full path or relative path from the root of the project\n",
    "    data_path: \"data/mnist_784/dataset_X.npy\"\n",
    "    label_path: \"data/mnist_784/dataset_y.npy\"\n",
    "    label_name: null\n",
    "  split:\n",
    "    train_ratio: 0.8\n",
    "    validation_ratio: 0.0\n",
    "    test_ratio: 0.2\n",
    "    shuffle: true\n",
    "  features: null\n",
    "  raw_preprocess_logic: # [SETUP] your logic path and parameter\n",
    "    module_name: \"your_project.custom.raw_preprocess_logic\"\n",
    "    implement_name: \"sampling_by_each_class\"\n",
    "    params:\n",
    "        n_samples: 100\n",
    "        labels: [0, 1]\n",
    "  transform_logic: # [SETUP] your logic path and parameter\n",
    "    module_name: \"your_project.custom.transform_logic\"\n",
    "    implement_name: \"dimension_reduction_by_pca\"\n",
    "    params:\n",
    "        n_components: 2\n",
    "\n",
    "device:\n",
    "  platform: \"pennylane\"\n",
    "  device_name: \"default.qubit\"\n",
    "  n_qubits: 2\n",
    "  shots: null\n",
    "\n",
    "feature_map: # [SETUP] your logic path and parameter\n",
    "  module_name: \"your_project.custom.feature_map\"\n",
    "  implement_name: \"CustomFeatureMap\"\n",
    "  params:\n",
    "    reps: 2\n",
    "\n",
    "kernel:\n",
    "  module_name: \"qxmt.kernels.pennylane\"\n",
    "  implement_name: \"FidelityKernel\"\n",
    "  params: {}\n",
    "\n",
    "model:\n",
    "  name: \"qsvc\"\n",
    "  file_name: \"model.pkl\"\n",
    "  params:\n",
    "    C: 1.0\n",
    "    gamma: 0.05\n",
    "\n",
    "evaluation: # [SETUP] your logic path\n",
    "  default_metrics:\n",
    "  - \"accuracy\"\n",
    "  - \"precision\"\n",
    "  - \"recall\"\n",
    "  - \"f1_score\"\n",
    "  custom_metrics: \n",
    "  - {\"module_name\": \"your_project.custom.evaluation\", \"implement_name\": \"CustomMetric\"}\n",
    "```"
   ]
  },
  {
   "cell_type": "markdown",
   "metadata": {},
   "source": [
    "## 4. Executing Experiments and Evaluation\n",
    "Finally, an instance of the QXMT experiment management system will be created, and the previously defined configuration file will be used to execute the Run.\n",
    "\n",
    "If an module import error occurs during execution, review the Python path and re-run the process.\n",
    "For example, if a custome module is implemented in `/root/hoge/your_project/custom/raw_preprocess_logic.py`, the Python path can be updated using the `sys.path.append(\"/root/hoge\")` command."
   ]
  },
  {
   "cell_type": "code",
   "execution_count": 1,
   "metadata": {},
   "outputs": [],
   "source": [
    "import qxmt\n",
    "\n",
    "# initialize experiment for custom tutorial\n",
    "experiment = qxmt.Experiment(\n",
    "    name=\"custom_tutorial\",\n",
    "    desc=\"A custome experiment for MNIST dataset\",\n",
    "    auto_gen_mode=False,\n",
    ").init()"
   ]
  },
  {
   "cell_type": "code",
   "execution_count": 2,
   "metadata": {},
   "outputs": [],
   "source": [
    "import sys\n",
    "from pathlib import Path\n",
    "\n",
    "# add module path for python execution\n",
    "module_path = Path.cwd().resolve().parents[1]\n",
    "if module_path not in sys.path:\n",
    "    sys.path.append(str(module_path))"
   ]
  },
  {
   "cell_type": "code",
   "execution_count": 3,
   "metadata": {},
   "outputs": [
    {
     "data": {
      "application/vnd.jupyter.widget-view+json": {
       "model_id": "702a1913a55b434b8e937743b9acf856",
       "version_major": 2,
       "version_minor": 0
      },
      "text/plain": [
       "Output()"
      ]
     },
     "metadata": {},
     "output_type": "display_data"
    },
    {
     "data": {
      "text/html": [
       "<pre style=\"white-space:pre;overflow-x:auto;line-height:normal;font-family:Menlo,'DejaVu Sans Mono',consolas,'Courier New',monospace\"></pre>\n"
      ],
      "text/plain": []
     },
     "metadata": {},
     "output_type": "display_data"
    },
    {
     "data": {
      "application/vnd.jupyter.widget-view+json": {
       "model_id": "21a08a7e77f2436686c9eafc99bd69bf",
       "version_major": 2,
       "version_minor": 0
      },
      "text/plain": [
       "Output()"
      ]
     },
     "metadata": {},
     "output_type": "display_data"
    },
    {
     "data": {
      "text/html": [
       "<pre style=\"white-space:pre;overflow-x:auto;line-height:normal;font-family:Menlo,'DejaVu Sans Mono',consolas,'Courier New',monospace\"></pre>\n"
      ],
      "text/plain": []
     },
     "metadata": {},
     "output_type": "display_data"
    },
    {
     "data": {
      "text/html": [
       "<div>\n",
       "<style scoped>\n",
       "    .dataframe tbody tr th:only-of-type {\n",
       "        vertical-align: middle;\n",
       "    }\n",
       "\n",
       "    .dataframe tbody tr th {\n",
       "        vertical-align: top;\n",
       "    }\n",
       "\n",
       "    .dataframe thead th {\n",
       "        text-align: right;\n",
       "    }\n",
       "</style>\n",
       "<table border=\"1\" class=\"dataframe\">\n",
       "  <thead>\n",
       "    <tr style=\"text-align: right;\">\n",
       "      <th></th>\n",
       "      <th>run_id</th>\n",
       "      <th>accuracy</th>\n",
       "      <th>precision</th>\n",
       "      <th>recall</th>\n",
       "      <th>f1_score</th>\n",
       "      <th>specificity</th>\n",
       "    </tr>\n",
       "  </thead>\n",
       "  <tbody>\n",
       "    <tr>\n",
       "      <th>0</th>\n",
       "      <td>1</td>\n",
       "      <td>0.6</td>\n",
       "      <td>0.666667</td>\n",
       "      <td>0.666667</td>\n",
       "      <td>0.666667</td>\n",
       "      <td>0.5</td>\n",
       "    </tr>\n",
       "  </tbody>\n",
       "</table>\n",
       "</div>"
      ],
      "text/plain": [
       "   run_id  accuracy  precision    recall  f1_score  specificity\n",
       "0       1       0.6   0.666667  0.666667  0.666667          0.5"
      ]
     },
     "execution_count": 3,
     "metadata": {},
     "output_type": "execute_result"
    }
   ],
   "source": [
    "# execute run of custom method\n",
    "config_path = \"../configs/custom.yaml\"\n",
    "artifact, result = experiment.run(config_source=config_path)\n",
    "\n",
    "# check evaluation result\n",
    "metrics_df = experiment.runs_to_dataframe()\n",
    "metrics_df.head()"
   ]
  },
  {
   "cell_type": "markdown",
   "metadata": {},
   "source": [
    "The results of the experiment, including the custom-defined evaluation metrics, will be visualized."
   ]
  },
  {
   "cell_type": "code",
   "execution_count": 4,
   "metadata": {},
   "outputs": [
    {
     "data": {
      "image/png": "[encoded data removed]",
      "text/plain": [
       "<Figure size 1000x600 with 1 Axes>"
      ]
     },
     "metadata": {},
     "output_type": "display_data"
    }
   ],
   "source": [
    "from qxmt.visualization import plot_metrics_side_by_side\n",
    "\n",
    "# get run result as dataframe\n",
    "df = experiment.runs_to_dataframe()\n",
    "\n",
    "# add your custom metrics on metrics list\n",
    "plot_metrics_side_by_side(\n",
    "  df=df,\n",
    "  metrics=[\"accuracy\", \"recall\", \"precision\", \"f1_score\", \"specificity\"],\n",
    "  run_ids=[1],\n",
    "  save_path=experiment.experiment_dirc / \"side_by_side.png\"\n",
    "  )"
   ]
  },
  {
   "cell_type": "markdown",
   "metadata": {},
   "source": [
    "---\n",
    "\n",
    "### Version Information\n",
    "| Environment | Version |\n",
    "|----------|----------|\n",
    "| document | 2025/01/22 |\n",
    "| QXMT| v0.4.5 |"
   ]
  },
  {
   "cell_type": "markdown",
   "metadata": {},
   "source": []
  }
 ],
 "metadata": {
  "kernelspec": {
   "display_name": ".venv",
   "language": "python",
   "name": "python3"
  },
  "language_info": {
   "codemirror_mode": {
    "name": "ipython",
    "version": 3
   },
   "file_extension": ".py",
   "mimetype": "text/x-python",
   "name": "python",
   "nbconvert_exporter": "python",
   "pygments_lexer": "ipython3",
   "version": "3.11.10"
  }
 },
 "nbformat": 4,
 "nbformat_minor": 2
}
