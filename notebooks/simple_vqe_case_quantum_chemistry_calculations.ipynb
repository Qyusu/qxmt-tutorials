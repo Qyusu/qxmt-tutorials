{
 "cells": [
  {
   "cell_type": "markdown",
   "metadata": {},
   "source": [
    "# Using the VQE Module for Quantum Chemistry Calculations\n",
    "\n",
    "In this tutorial, you will learn how to use QXMT's Variational Quantum Eigensolver (VQE) module for quantum chemistry calculations. VQE is a hybrid quantum-classical algorithm designed to find the ground state energy of molecules, which is a fundamental problem in quantum chemistry."
   ]
  },
  {
   "cell_type": "markdown",
   "metadata": {},
   "source": [
    "## 1. Understanding VQE Configuration\n",
    "\n",
    "QXMT's VQE module requires specific configuration elements that differ from the quantum kernel models. Here's an overview of the key components:\n",
    "\n",
    "- **global_settings**: Defines global configuration parameters including:\n",
    "  - `random_seed`: Sets a seed for reproducibility\n",
    "  - `model_type`: Must be set to \"vqe\" to use the VQE module\n",
    "\n",
    "- **hamiltonian**: Specifies the molecular Hamiltonian to be solved:\n",
    "  - `module_name`: Module containing the Hamiltonian implementation\n",
    "  - `implement_name`: Class name of the Hamiltonian implementation\n",
    "  - `params`: Parameters for the Hamiltonian, such as molecule specification\n",
    "\n",
    "- **device**: Configures the quantum device for running simulations:\n",
    "  - `platform`: Currently supports \"pennylane\"\n",
    "  - `device_name`: Device to use (e.g., \"lightning.qubit\")\n",
    "  - `n_qubits`: Number of qubits required for the simulation\n",
    "  - `shots`: Number of measurement shots (null for exact simulation)\n",
    "\n",
    "- **ansatz**: Specifies the variational ansatz to use:\n",
    "  - `module_name`: Module containing the ansatz implementation\n",
    "  - `implement_name`: Class name of the ansatz implementation\n",
    "  - `params`: Parameters for the ansatz\n",
    "\n",
    "- **model**: Specifies the VQE model implementation and optimization settings:\n",
    "  - `name`: Model implementation (currently \"basic\")\n",
    "  - `diff_method`: Differentiation method for optimization (e.g., \"adjoint\")\n",
    "  - `optimizer_settings`: Configuration for the classical optimizer\n",
    "  - `params`: Additional parameters like maximum iterations\n",
    "\n",
    "- **evaluation**: Lists the evaluation metrics to be used:\n",
    "  - `default_metrics`: Metrics like \"final_cost\" and \"hf_energy\"\n",
    "  - `custom_metrics`: Any custom metrics to be calculated"
   ]
  },
  {
   "cell_type": "markdown",
   "metadata": {},
   "source": [
    "## 2. Example Configuration for H₂ Molecule\n",
    "\n",
    "Here's an example configuration for calculating the ground state energy of an H2 molecule:\n",
    "\n",
    "```yaml\n",
    "description: \"VQE calculation for H2 molecule\"\n",
    "\n",
    "global_settings:\n",
    "  random_seed: 42\n",
    "  model_type: \"vqe\"\n",
    "\n",
    "hamiltonian:\n",
    "  module_name: \"qxmt.hamiltonians.pennylane\"\n",
    "  implement_name: \"MolecularHamiltonian\"\n",
    "  params:\n",
    "    molname: \"H2\"\n",
    "    basis_name: \"STO-3G\"\n",
    "    bondlength: 0.74\n",
    "    active_electrons: 2\n",
    "    active_orbitals: 2\n",
    "\n",
    "device:\n",
    "  platform: \"pennylane\"\n",
    "  device_name: \"lightning.qubit\"\n",
    "  n_qubits: 4\n",
    "  shots: null\n",
    "  random_seed: 42\n",
    "\n",
    "ansatz:\n",
    "  module_name: \"qxmt.ansatze.pennylane\"\n",
    "  implement_name: \"UCCSDAnsatz\"\n",
    "  params: null\n",
    "\n",
    "model:\n",
    "  name: \"basic\"\n",
    "  diff_method: \"adjoint\"\n",
    "  optimizer_settings:\n",
    "    name: \"Adam\"\n",
    "    params:\n",
    "      stepsize: 0.01\n",
    "      beta1: 0.9\n",
    "      beta2: 0.999\n",
    "  params:\n",
    "    max_steps: 20\n",
    "    verbose: false\n",
    "\n",
    "evaluation:\n",
    "  default_metrics:\n",
    "  - \"final_cost\"\n",
    "  - \"hf_energy\"\n",
    "  - \"fci_energy\"\n",
    "  custom_metrics: []\n",
    "```\n",
    "\n",
    "You can also specify the molecule structure explicitly:\n",
    "\n",
    "```yaml\n",
    "hamiltonian:\n",
    "  module_name: \"qxmt.hamiltonians.pennylane\"\n",
    "  implement_name: \"MolecularHamiltonian\"\n",
    "  params:\n",
    "    symbols: [\"H\", \"H\"]\n",
    "    coordinates: [[0.0, 0.0, 0.0], [0.0, 0.0, 0.74]]\n",
    "    charge: 0\n",
    "    multi: 1\n",
    "    basis_name: \"STO-3G\"\n",
    "    active_electrons: 2\n",
    "    active_orbitals: 2\n",
    "    unit: \"angstrom\"\n",
    "```\n",
    "\n",
    "NOTE: Currently, the explicit mode does not support FCI energy evaluation."
   ]
  },
  {
   "cell_type": "markdown",
   "metadata": {},
   "source": [
    "## 3. Running a VQE Calculation\n",
    "\n",
    "To run a VQE calculation, you can use the same experiment framework as with quantum kernel models:"
   ]
  },
  {
   "cell_type": "code",
   "execution_count": 19,
   "metadata": {},
   "outputs": [
    {
     "name": "stderr",
     "output_type": "stream",
     "text": [
      "Optimizing ansatz with 3 parameters through 20 steps\n",
      "Optimization finished. Final cost: -1.13622722\n"
     ]
    },
    {
     "name": "stdout",
     "output_type": "stream",
     "text": [
      "VQE Energy: -1.1362272195288956\n",
      "HF Energy: -1.11675922817382\n",
      "FCI Energy: -1.1372838216460408\n"
     ]
    }
   ],
   "source": [
    "import qxmt\n",
    "from qxmt.experiment.schema import VQEEvaluations\n",
    "from typing import cast\n",
    "\n",
    "# Initialize experiment\n",
    "experiment = qxmt.Experiment(\n",
    "    name=\"vqe_h2_experiment\",\n",
    "    desc=\"VQE calculation for H2 molecule\",\n",
    "    auto_gen_mode=False,\n",
    ").init()\n",
    "\n",
    "# Run the experiment with the VQE configuration\n",
    "config_path = \"../configs/vqe_h2.yaml\"\n",
    "artifact, result = experiment.run(config_source=config_path)\n",
    "\n",
    "# Access the results\n",
    "final_energy = cast(VQEEvaluations, result.evaluations).optimized[\"final_cost\"]\n",
    "hf_energy = cast(VQEEvaluations, result.evaluations).optimized[\"hf_energy\"]\n",
    "fci_energy = cast(VQEEvaluations, result.evaluations).optimized[\"fci_energy\"]\n",
    "print(f\"VQE Energy: {final_energy}\")\n",
    "print(f\"HF Energy: {hf_energy}\")\n",
    "print(f\"FCI Energy: {fci_energy}\")"
   ]
  },
  {
   "cell_type": "code",
   "execution_count": 20,
   "metadata": {},
   "outputs": [
    {
     "data": {
      "text/html": [
       "<div>\n",
       "<style scoped>\n",
       "    .dataframe tbody tr th:only-of-type {\n",
       "        vertical-align: middle;\n",
       "    }\n",
       "\n",
       "    .dataframe tbody tr th {\n",
       "        vertical-align: top;\n",
       "    }\n",
       "\n",
       "    .dataframe thead th {\n",
       "        text-align: right;\n",
       "    }\n",
       "</style>\n",
       "<table border=\"1\" class=\"dataframe\">\n",
       "  <thead>\n",
       "    <tr style=\"text-align: right;\">\n",
       "      <th></th>\n",
       "      <th>run_id</th>\n",
       "      <th>final_cost</th>\n",
       "      <th>hf_energy</th>\n",
       "      <th>fci_energy</th>\n",
       "    </tr>\n",
       "  </thead>\n",
       "  <tbody>\n",
       "    <tr>\n",
       "      <th>0</th>\n",
       "      <td>1</td>\n",
       "      <td>-1.136227</td>\n",
       "      <td>-1.116759</td>\n",
       "      <td>-1.137284</td>\n",
       "    </tr>\n",
       "  </tbody>\n",
       "</table>\n",
       "</div>"
      ],
      "text/plain": [
       "   run_id  final_cost  hf_energy  fci_energy\n",
       "0       1   -1.136227  -1.116759   -1.137284"
      ]
     },
     "execution_count": 20,
     "metadata": {},
     "output_type": "execute_result"
    }
   ],
   "source": [
    "experiment.runs_to_dataframe()"
   ]
  },
  {
   "cell_type": "markdown",
   "metadata": {},
   "source": [
    "## 4. Visualizing Optimization Progress\n",
    "\n",
    "QXMT provides functionality to visualize the optimization progress during VQE calculations. You can plot the energy convergence as follows:"
   ]
  },
  {
   "cell_type": "code",
   "execution_count": 22,
   "metadata": {},
   "outputs": [
    {
     "data": {
      "image/png": "[encoded data removed]",
      "text/plain": [
       "<Figure size 700x500 with 1 Axes>"
      ]
     },
     "metadata": {},
     "output_type": "display_data"
    }
   ],
   "source": [
    "from qxmt.visualization import plot_optimization_history\n",
    "from qxmt.models.vqe import BaseVQE\n",
    "\n",
    "# Plot the optimization history\n",
    "plot_optimization_history(\n",
    "    cost_history=cast(BaseVQE, artifact.model).cost_history,\n",
    "    cost_label=\"VQE Energy\",\n",
    "    baseline_cost=fci_energy,\n",
    "    baseline_label=\"FCI Energy\",\n",
    "    y_label=\"Optimized Energy\",\n",
    "    save_path=experiment.experiment_dirc / f\"run_{experiment.current_run_id}/optimization.png\"\n",
    ")"
   ]
  },
  {
   "cell_type": "markdown",
   "metadata": {},
   "source": [
    "---\n",
    "\n",
    "### Version Information\n",
    "| Environment | Version |\n",
    "|----------|----------|\n",
    "| document | 2025/05/12 |\n",
    "| QXMT| v0.5.1 |"
   ]
  }
 ],
 "metadata": {
  "kernelspec": {
   "display_name": ".venv",
   "language": "python",
   "name": "python3"
  },
  "language_info": {
   "codemirror_mode": {
    "name": "ipython",
    "version": 3
   },
   "file_extension": ".py",
   "mimetype": "text/x-python",
   "name": "python",
   "nbconvert_exporter": "python",
   "pygments_lexer": "ipython3",
   "version": "3.11.10"
  }
 },
 "nbformat": 4,
 "nbformat_minor": 2
}
